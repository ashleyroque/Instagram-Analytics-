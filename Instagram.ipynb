{
 "cells": [
  {
   "cell_type": "code",
   "execution_count": 1,
   "id": "090f3b28-8b9e-4aed-9ab2-9192c9aaa8da",
   "metadata": {},
   "outputs": [],
   "source": [
    "import pandas as pd # for working with data\n",
    "import numpy as np # for working with data\n",
    "import seaborn as sns # for making visualizations\n",
    "from matplotlib import pyplot as plt # for making visualizations\n",
    "from sklearn import tree\n",
    "from sklearn.model_selection import train_test_split\n",
    "from sklearn.linear_model import LogisticRegression \n",
    "from sklearn.metrics import accuracy_score, classification_report \n",
    "\n",
    "from sklearn.ensemble import RandomForestClassifier\n",
    "\n",
    "from sklearn.metrics import classification_report, accuracy_score"
   ]
  },
  {
   "cell_type": "code",
   "execution_count": 2,
   "id": "e0d2d09d-12f8-4e51-ab2b-b95a34a5ca1a",
   "metadata": {},
   "outputs": [],
   "source": [
    "# Load the CSV file\n",
    "df = pd.read_csv('C:/Users/ashle/Downloads/Data Mining/instagram_data.csv')"
   ]
  },
  {
   "cell_type": "code",
   "execution_count": 4,
   "id": "591e2c5e-4856-4152-9ac8-cb0877ec2d4d",
   "metadata": {},
   "outputs": [
    {
     "data": {
      "text/html": [
       "<div>\n",
       "<style scoped>\n",
       "    .dataframe tbody tr th:only-of-type {\n",
       "        vertical-align: middle;\n",
       "    }\n",
       "\n",
       "    .dataframe tbody tr th {\n",
       "        vertical-align: top;\n",
       "    }\n",
       "\n",
       "    .dataframe thead th {\n",
       "        text-align: right;\n",
       "    }\n",
       "</style>\n",
       "<table border=\"1\" class=\"dataframe\">\n",
       "  <thead>\n",
       "    <tr style=\"text-align: right;\">\n",
       "      <th></th>\n",
       "      <th>owner_id</th>\n",
       "      <th>owner_username</th>\n",
       "      <th>shortcode</th>\n",
       "      <th>is_video</th>\n",
       "      <th>caption</th>\n",
       "      <th>comments</th>\n",
       "      <th>likes</th>\n",
       "      <th>created_at</th>\n",
       "      <th>location</th>\n",
       "      <th>imageUrl</th>\n",
       "      <th>multiple_images</th>\n",
       "      <th>username</th>\n",
       "      <th>followers</th>\n",
       "      <th>following</th>\n",
       "    </tr>\n",
       "  </thead>\n",
       "  <tbody>\n",
       "    <tr>\n",
       "      <th>0</th>\n",
       "      <td>36063641</td>\n",
       "      <td>christendominique</td>\n",
       "      <td>C3_GS1ASeWI</td>\n",
       "      <td>False</td>\n",
       "      <td>I’m a brunch &amp; Iced Coffee girlie☕️🍳 \\n\\nTop @...</td>\n",
       "      <td>268</td>\n",
       "      <td>16382</td>\n",
       "      <td>1.709327e+09</td>\n",
       "      <td>NaN</td>\n",
       "      <td>https://instagram.flba2-1.fna.fbcdn.net/v/t39....</td>\n",
       "      <td>True</td>\n",
       "      <td>christendominique</td>\n",
       "      <td>2144626.0</td>\n",
       "      <td>1021.0</td>\n",
       "    </tr>\n",
       "    <tr>\n",
       "      <th>1</th>\n",
       "      <td>36063641</td>\n",
       "      <td>christendominique</td>\n",
       "      <td>C38ivgNS3IX</td>\n",
       "      <td>True</td>\n",
       "      <td>😮‍💨Brow tips I really wish I would have know w...</td>\n",
       "      <td>138</td>\n",
       "      <td>9267</td>\n",
       "      <td>1.709241e+09</td>\n",
       "      <td>NaN</td>\n",
       "      <td>https://instagram.flba2-1.fna.fbcdn.net/v/t51....</td>\n",
       "      <td>False</td>\n",
       "      <td>christendominique</td>\n",
       "      <td>2144626.0</td>\n",
       "      <td>1021.0</td>\n",
       "    </tr>\n",
       "    <tr>\n",
       "      <th>2</th>\n",
       "      <td>36063641</td>\n",
       "      <td>christendominique</td>\n",
       "      <td>C35-Dd9SO1b</td>\n",
       "      <td>True</td>\n",
       "      <td>OMG I can’t believe it’s already been 1 yr sin...</td>\n",
       "      <td>1089</td>\n",
       "      <td>10100</td>\n",
       "      <td>1.709155e+09</td>\n",
       "      <td>NaN</td>\n",
       "      <td>https://instagram.flba2-1.fna.fbcdn.net/v/t51....</td>\n",
       "      <td>False</td>\n",
       "      <td>christendominique</td>\n",
       "      <td>2144626.0</td>\n",
       "      <td>1021.0</td>\n",
       "    </tr>\n",
       "    <tr>\n",
       "      <th>3</th>\n",
       "      <td>36063641</td>\n",
       "      <td>christendominique</td>\n",
       "      <td>C33TadDMisq</td>\n",
       "      <td>True</td>\n",
       "      <td>90’s Glam was Pam! \\n\\nMakeup \\n@smashboxcosme...</td>\n",
       "      <td>271</td>\n",
       "      <td>6943</td>\n",
       "      <td>1.709065e+09</td>\n",
       "      <td>NaN</td>\n",
       "      <td>https://instagram.flba2-1.fna.fbcdn.net/v/t51....</td>\n",
       "      <td>False</td>\n",
       "      <td>christendominique</td>\n",
       "      <td>2144626.0</td>\n",
       "      <td>1021.0</td>\n",
       "    </tr>\n",
       "    <tr>\n",
       "      <th>4</th>\n",
       "      <td>36063641</td>\n",
       "      <td>christendominique</td>\n",
       "      <td>C3s-Cm1yCba</td>\n",
       "      <td>True</td>\n",
       "      <td>Chiseled &amp; Sculptured 🏛️\\n\\n Contour @westmana...</td>\n",
       "      <td>145</td>\n",
       "      <td>17158</td>\n",
       "      <td>1.708718e+09</td>\n",
       "      <td>NaN</td>\n",
       "      <td>https://instagram.flba2-1.fna.fbcdn.net/v/t51....</td>\n",
       "      <td>False</td>\n",
       "      <td>christendominique</td>\n",
       "      <td>2144626.0</td>\n",
       "      <td>1021.0</td>\n",
       "    </tr>\n",
       "  </tbody>\n",
       "</table>\n",
       "</div>"
      ],
      "text/plain": [
       "   owner_id     owner_username    shortcode is_video  \\\n",
       "0  36063641  christendominique  C3_GS1ASeWI    False   \n",
       "1  36063641  christendominique  C38ivgNS3IX     True   \n",
       "2  36063641  christendominique  C35-Dd9SO1b     True   \n",
       "3  36063641  christendominique  C33TadDMisq     True   \n",
       "4  36063641  christendominique  C3s-Cm1yCba     True   \n",
       "\n",
       "                                             caption comments  likes  \\\n",
       "0  I’m a brunch & Iced Coffee girlie☕️🍳 \\n\\nTop @...      268  16382   \n",
       "1  😮‍💨Brow tips I really wish I would have know w...      138   9267   \n",
       "2  OMG I can’t believe it’s already been 1 yr sin...     1089  10100   \n",
       "3  90’s Glam was Pam! \\n\\nMakeup \\n@smashboxcosme...      271   6943   \n",
       "4  Chiseled & Sculptured 🏛️\\n\\n Contour @westmana...      145  17158   \n",
       "\n",
       "     created_at location                                           imageUrl  \\\n",
       "0  1.709327e+09      NaN  https://instagram.flba2-1.fna.fbcdn.net/v/t39....   \n",
       "1  1.709241e+09      NaN  https://instagram.flba2-1.fna.fbcdn.net/v/t51....   \n",
       "2  1.709155e+09      NaN  https://instagram.flba2-1.fna.fbcdn.net/v/t51....   \n",
       "3  1.709065e+09      NaN  https://instagram.flba2-1.fna.fbcdn.net/v/t51....   \n",
       "4  1.708718e+09      NaN  https://instagram.flba2-1.fna.fbcdn.net/v/t51....   \n",
       "\n",
       "  multiple_images           username  followers  following  \n",
       "0            True  christendominique  2144626.0     1021.0  \n",
       "1           False  christendominique  2144626.0     1021.0  \n",
       "2           False  christendominique  2144626.0     1021.0  \n",
       "3           False  christendominique  2144626.0     1021.0  \n",
       "4           False  christendominique  2144626.0     1021.0  "
      ]
     },
     "execution_count": 4,
     "metadata": {},
     "output_type": "execute_result"
    }
   ],
   "source": [
    "# Exploring the data \n",
    "df.head()"
   ]
  },
  {
   "cell_type": "code",
   "execution_count": 93,
   "id": "94f18d33-3164-4f01-8ddf-f7b4121f2d52",
   "metadata": {},
   "outputs": [
    {
     "data": {
      "text/plain": [
       "owner_id            object\n",
       "owner_username      object\n",
       "shortcode           object\n",
       "is_video            object\n",
       "caption             object\n",
       "comments            object\n",
       "likes               object\n",
       "created_at         float64\n",
       "location            object\n",
       "imageUrl            object\n",
       "multiple_images     object\n",
       "username            object\n",
       "followers          float64\n",
       "following          float64\n",
       "dtype: object"
      ]
     },
     "execution_count": 93,
     "metadata": {},
     "output_type": "execute_result"
    }
   ],
   "source": [
    "# Exploring the data \n",
    "df.dtypes"
   ]
  },
  {
   "cell_type": "code",
   "execution_count": 95,
   "id": "eb707651-9550-41fb-b586-03cdafb4d55b",
   "metadata": {},
   "outputs": [
    {
     "data": {
      "text/plain": [
       "Index(['owner_id', 'owner_username', 'shortcode', 'is_video', 'caption',\n",
       "       'comments', 'likes', 'created_at', 'location', 'imageUrl',\n",
       "       'multiple_images', 'username', 'followers', 'following'],\n",
       "      dtype='object')"
      ]
     },
     "execution_count": 95,
     "metadata": {},
     "output_type": "execute_result"
    }
   ],
   "source": [
    "# Exploring the data \n",
    "df.columns"
   ]
  },
  {
   "cell_type": "code",
   "execution_count": 97,
   "id": "ace0c87d-e1d8-47fd-8c3a-508d0cd22c0d",
   "metadata": {},
   "outputs": [
    {
     "data": {
      "text/html": [
       "<div>\n",
       "<style scoped>\n",
       "    .dataframe tbody tr th:only-of-type {\n",
       "        vertical-align: middle;\n",
       "    }\n",
       "\n",
       "    .dataframe tbody tr th {\n",
       "        vertical-align: top;\n",
       "    }\n",
       "\n",
       "    .dataframe thead th {\n",
       "        text-align: right;\n",
       "    }\n",
       "</style>\n",
       "<table border=\"1\" class=\"dataframe\">\n",
       "  <thead>\n",
       "    <tr style=\"text-align: right;\">\n",
       "      <th></th>\n",
       "      <th>created_at</th>\n",
       "      <th>followers</th>\n",
       "      <th>following</th>\n",
       "    </tr>\n",
       "  </thead>\n",
       "  <tbody>\n",
       "    <tr>\n",
       "      <th>count</th>\n",
       "      <td>1.168900e+04</td>\n",
       "      <td>9.577000e+03</td>\n",
       "      <td>9.577000e+03</td>\n",
       "    </tr>\n",
       "    <tr>\n",
       "      <th>mean</th>\n",
       "      <td>1.682416e+09</td>\n",
       "      <td>2.460785e+06</td>\n",
       "      <td>4.932806e+03</td>\n",
       "    </tr>\n",
       "    <tr>\n",
       "      <th>std</th>\n",
       "      <td>5.432766e+07</td>\n",
       "      <td>1.606651e+07</td>\n",
       "      <td>7.837775e+04</td>\n",
       "    </tr>\n",
       "    <tr>\n",
       "      <th>min</th>\n",
       "      <td>1.315681e+09</td>\n",
       "      <td>1.000000e+00</td>\n",
       "      <td>0.000000e+00</td>\n",
       "    </tr>\n",
       "    <tr>\n",
       "      <th>25%</th>\n",
       "      <td>1.689106e+09</td>\n",
       "      <td>2.104850e+05</td>\n",
       "      <td>2.940000e+02</td>\n",
       "    </tr>\n",
       "    <tr>\n",
       "      <th>50%</th>\n",
       "      <td>1.706069e+09</td>\n",
       "      <td>5.217490e+05</td>\n",
       "      <td>6.850000e+02</td>\n",
       "    </tr>\n",
       "    <tr>\n",
       "      <th>75%</th>\n",
       "      <td>1.708597e+09</td>\n",
       "      <td>1.337823e+06</td>\n",
       "      <td>1.167000e+03</td>\n",
       "    </tr>\n",
       "    <tr>\n",
       "      <th>max</th>\n",
       "      <td>1.709535e+09</td>\n",
       "      <td>4.298311e+08</td>\n",
       "      <td>1.568394e+06</td>\n",
       "    </tr>\n",
       "  </tbody>\n",
       "</table>\n",
       "</div>"
      ],
      "text/plain": [
       "         created_at     followers     following\n",
       "count  1.168900e+04  9.577000e+03  9.577000e+03\n",
       "mean   1.682416e+09  2.460785e+06  4.932806e+03\n",
       "std    5.432766e+07  1.606651e+07  7.837775e+04\n",
       "min    1.315681e+09  1.000000e+00  0.000000e+00\n",
       "25%    1.689106e+09  2.104850e+05  2.940000e+02\n",
       "50%    1.706069e+09  5.217490e+05  6.850000e+02\n",
       "75%    1.708597e+09  1.337823e+06  1.167000e+03\n",
       "max    1.709535e+09  4.298311e+08  1.568394e+06"
      ]
     },
     "execution_count": 97,
     "metadata": {},
     "output_type": "execute_result"
    }
   ],
   "source": [
    "# Exploring the data \n",
    "df.describe()"
   ]
  },
  {
   "cell_type": "code",
   "execution_count": 99,
   "id": "325cc53c-d08c-4669-ae37-90da2d247251",
   "metadata": {},
   "outputs": [
    {
     "data": {
      "text/plain": [
       "owner_id              0\n",
       "owner_username        2\n",
       "shortcode             2\n",
       "is_video              2\n",
       "caption             161\n",
       "comments              2\n",
       "likes                 2\n",
       "created_at            3\n",
       "location           7169\n",
       "imageUrl              3\n",
       "multiple_images       3\n",
       "username           2115\n",
       "followers          2115\n",
       "following          2115\n",
       "dtype: int64"
      ]
     },
     "execution_count": 99,
     "metadata": {},
     "output_type": "execute_result"
    }
   ],
   "source": [
    "# Cleaning the data \n",
    "df.isna().sum()"
   ]
  },
  {
   "cell_type": "code",
   "execution_count": 101,
   "id": "0b5f8621-cc7d-4621-a108-483f9639785b",
   "metadata": {},
   "outputs": [
    {
     "name": "stdout",
     "output_type": "stream",
     "text": [
      "owner_id           0\n",
      "owner_username     0\n",
      "shortcode          0\n",
      "is_video           0\n",
      "caption            0\n",
      "comments           0\n",
      "likes              0\n",
      "created_at         0\n",
      "location           0\n",
      "imageUrl           0\n",
      "multiple_images    0\n",
      "username           0\n",
      "followers          0\n",
      "following          0\n",
      "dtype: int64\n"
     ]
    }
   ],
   "source": [
    "# Drop any missing values \n",
    "df.dropna(inplace=True)\n",
    "print(df.isnull().sum())"
   ]
  },
  {
   "cell_type": "code",
   "execution_count": 8,
   "id": "675ab566-15da-46f6-a751-64c1ffda00aa",
   "metadata": {},
   "outputs": [
    {
     "name": "stdout",
     "output_type": "stream",
     "text": [
      "   is_video  multiple_images  engagement_rate engagement_level\n",
      "0         0                1         0.007764             high\n",
      "1         1                0         0.004385              low\n",
      "2         1                0         0.005217             high\n",
      "3         1                0         0.003364              low\n",
      "4         1                0         0.008068             high\n"
     ]
    }
   ],
   "source": [
    "\n",
    "# Convert features to numeric types \n",
    "df['likes'] = pd.to_numeric(df['likes'], errors='coerce')\n",
    "df['comments'] = pd.to_numeric(df['comments'], errors='coerce')\n",
    "df['followers'] = pd.to_numeric(df['followers'], errors='coerce')\n",
    "df['following'] = pd.to_numeric(df['following'], errors='coerce')\n",
    "\n",
    "# Classify engagement levels \n",
    "df['engagement_rate'] = (df['likes'] + df['comments']) / df['followers']\n",
    "# Define threshold and classify engagement levels as 'high' or 'low'\n",
    "threshold = df['engagement_rate'].median()\n",
    "df['engagement_level'] = df['engagement_rate'].apply(lambda x: 'high' if x > threshold else 'low')\n",
    "\n",
    "# Convert 'is_video' and 'multiple_images' to numerical values, 1 = true, 0 = false\n",
    "df['is_video'] = df['is_video'].apply(lambda x: 1 if str(x).lower() == 'true' else 0)\n",
    "df['multiple_images'] = df['multiple_images'].apply(lambda x: 1 if str(x).lower() == 'true' else 0)\n",
    "\n",
    "# Check before dropping \n",
    "columns_to_drop = ['owner_id', 'owner_username', 'shortcode', 'caption', 'location', 'imageUrl', 'username']\n",
    "df.drop(columns=[col for col in columns_to_drop if col in df.columns], inplace=True)\n",
    "\n",
    "# Display the DataFrame to verify the results\n",
    "print(df[['is_video', 'multiple_images', 'engagement_rate', 'engagement_level']].head())\n"
   ]
  },
  {
   "cell_type": "code",
   "execution_count": 12,
   "id": "d71c3e16-042a-4a2c-bbb2-d64878d9b6d3",
   "metadata": {},
   "outputs": [
    {
     "data": {
      "image/png": "[encoded data removed]",
      "text/plain": [
       "<Figure size 800x600 with 2 Axes>"
      ]
     },
     "metadata": {},
     "output_type": "display_data"
    }
   ],
   "source": [
    "# Data Visualization using a heatmap \n",
    "correlation_matrix = df[['followers', 'likes', 'comments']].corr()\n",
    "plt.figure(figsize=(8, 6))\n",
    "sns.heatmap(correlation_matrix, annot=True, cmap='coolwarm', fmt='.2f', cbar=True)\n",
    "plt.title('Correlation Heatmap of Instagram Features', fontsize=16)\n",
    "plt.show()"
   ]
  },
  {
   "cell_type": "code",
   "execution_count": 16,
   "id": "9c17f614-e89e-418f-b126-a05d4ca6d781",
   "metadata": {},
   "outputs": [
    {
     "data": {
      "image/png": "[encoded data removed]",
      "text/plain": [
       "<Figure size 1000x800 with 1 Axes>"
      ]
     },
     "metadata": {},
     "output_type": "display_data"
    }
   ],
   "source": [
    "# Data Visualization \n",
    "post_type_engagement = df.groupby('is_video')['engagement_rate'].mean()\n",
    "fig, ax = plt.subplots(figsize=(10, 8))\n",
    "post_type_engagement.plot(kind='bar', color='skyblue', ax=ax)\n",
    "ax.set(title=\"Post Type Engagement\", \n",
    "       xlabel=\"Post Type (0 = Image, 1 = Video)\", \n",
    "       ylabel=\"Average Engagement Rate\")\n",
    "plt.show()\n"
   ]
  },
  {
   "cell_type": "code",
   "execution_count": 169,
   "id": "75b4196c-128e-4270-99c4-57f04e09dccc",
   "metadata": {},
   "outputs": [
    {
     "name": "stdout",
     "output_type": "stream",
     "text": [
      "Training set size: (2995, 8), Testing set size: (749, 8)\n"
     ]
    }
   ],
   "source": [
    "# Train-test spilt \n",
    "from sklearn.model_selection import train_test_split\n",
    "\n",
    "X = df.drop(columns=['engagement_level'])\n",
    "y = df['engagement_level']\n",
    "\n",
    "X_train, X_test, y_train, y_test = train_test_split(X, y, test_size=0.2, random_state=42)\n",
    "\n",
    "# Check the shapes of the train and test sets\n",
    "print(f\"Training set size: {X_train.shape}, Testing set size: {X_test.shape}\")\n",
    "\n",
    "# 2995 represents the number of rows in the training set \n",
    "# 3 is the number of is_video, multiple_images, and engagement_rate \n",
    "# Training set: 80% of the data, which is 2995 samples.\n",
    "#Testing set: 20% of the data, which is 749 samples."
   ]
  },
  {
   "cell_type": "code",
   "execution_count": 191,
   "id": "58ba86d9-37a1-473d-a956-173af6d9ad45",
   "metadata": {},
   "outputs": [
    {
     "name": "stdout",
     "output_type": "stream",
     "text": [
      "Accuracy: 0.9893190921228304\n",
      "              precision    recall  f1-score   support\n",
      "\n",
      "         low       0.99      0.99      0.99       391\n",
      "        high       0.99      0.99      0.99       358\n",
      "\n",
      "    accuracy                           0.99       749\n",
      "   macro avg       0.99      0.99      0.99       749\n",
      "weighted avg       0.99      0.99      0.99       749\n",
      "\n"
     ]
    },
    {
     "name": "stderr",
     "output_type": "stream",
     "text": [
      "C:\\Users\\ashle\\anaconda3\\Lib\\site-packages\\sklearn\\linear_model\\_logistic.py:469: ConvergenceWarning: lbfgs failed to converge (status=1):\n",
      "STOP: TOTAL NO. of ITERATIONS REACHED LIMIT.\n",
      "\n",
      "Increase the number of iterations (max_iter) or scale the data as shown in:\n",
      "    https://scikit-learn.org/stable/modules/preprocessing.html\n",
      "Please also refer to the documentation for alternative solver options:\n",
      "    https://scikit-learn.org/stable/modules/linear_model.html#logistic-regression\n",
      "  n_iter_i = _check_optimize_result(\n"
     ]
    }
   ],
   "source": [
    "# Modeling using Logistic Regression\n",
    "model = LogisticRegression() \n",
    "model.fit(X_train, y_train) \n",
    "y_pred = model.predict(X_test)\n",
    "\n",
    "accuracy = accuracy_score(y_test, y_pred) \n",
    "print(\"Accuracy:\", accuracy)\n",
    "\n",
    "# Detailed performance report\n",
    "print(classification_report(y_test, y_pred, target_names=['low', 'high']))"
   ]
  },
  {
   "cell_type": "code",
   "execution_count": 199,
   "id": "da54cf0b-1af3-4e7c-b8b5-e9cd26bf655e",
   "metadata": {},
   "outputs": [
    {
     "data": {
      "image/png": "[encoded data removed]",
      "text/plain": [
       "<Figure size 800x600 with 2 Axes>"
      ]
     },
     "metadata": {},
     "output_type": "display_data"
    }
   ],
   "source": [
    "from sklearn.metrics import confusion_matrix\n",
    "import seaborn as sns\n",
    "\n",
    "# Compute confusion matrix\n",
    "cm = confusion_matrix(y_test, y_pred)\n",
    "\n",
    "# Plot confusion matrix\n",
    "plt.figure(figsize=(8, 6))\n",
    "sns.heatmap(cm, annot=True, fmt='d', cmap='Blues', xticklabels=['Low', 'High'], yticklabels=['Low', 'High'])\n",
    "plt.title('Confusion Matrix')\n",
    "plt.xlabel('Predicted Label')\n",
    "plt.ylabel('True Label')\n",
    "plt.show()\n"
   ]
  }
 ],
 "metadata": {
  "kernelspec": {
   "display_name": "Python 3 (ipykernel)",
   "language": "python",
   "name": "python3"
  },
  "language_info": {
   "codemirror_mode": {
    "name": "ipython",
    "version": 3
   },
   "file_extension": ".py",
   "mimetype": "text/x-python",
   "name": "python",
   "nbconvert_exporter": "python",
   "pygments_lexer": "ipython3",
   "version": "3.12.4"
  }
 },
 "nbformat": 4,
 "nbformat_minor": 5
}
